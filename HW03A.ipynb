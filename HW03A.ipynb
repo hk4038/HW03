{
 "cells": [
  {
   "cell_type": "markdown",
   "metadata": {},
   "source": [
    "# HW03A\n",
    "\n",
    "## Some exercises with lists of objects (dataset)"
   ]
  },
  {
   "cell_type": "markdown",
   "metadata": {},
   "source": [
    "## Setup\n",
    "\n",
    "Let's import some helper functions and libraries"
   ]
  },
  {
   "cell_type": "code",
   "execution_count": 28,
   "metadata": {},
   "outputs": [],
   "source": [
    "import json"
   ]
  },
  {
   "cell_type": "markdown",
   "metadata": {},
   "source": [
    "### Load Data\n",
    "\n",
    "Here we are opening a JSON file, reading the JSON string in the file, turning it into Python values and loading them into Python variables."
   ]
  },
  {
   "cell_type": "code",
   "execution_count": 29,
   "metadata": {},
   "outputs": [],
   "source": [
    "with open(\"./data/art.json\", \"r\") as fp:\n",
    "  art = json.load(fp)"
   ]
  },
  {
   "cell_type": "markdown",
   "metadata": {},
   "source": [
    "### Take a look at data\n",
    "\n",
    "We can print the content and the type of our variables."
   ]
  },
  {
   "cell_type": "code",
   "execution_count": 30,
   "metadata": {},
   "outputs": [
    {
     "name": "stdout",
     "output_type": "stream",
     "text": [
      "<class 'list'>\n"
     ]
    }
   ],
   "source": [
    "# TODO: What's inside the art variable ?\n",
    "print(type(art))\n",
    "#print(art)"
   ]
  },
  {
   "cell_type": "code",
   "execution_count": 31,
   "metadata": {
    "tags": [
     "work_cell"
    ]
   },
   "outputs": [],
   "source": [
    "# TODO print type of each member of the dictionary"
   ]
  },
  {
   "cell_type": "code",
   "execution_count": 32,
   "metadata": {},
   "outputs": [
    {
     "name": "stdout",
     "output_type": "stream",
     "text": [
      "artist <class 'str'>\n",
      "title <class 'str'>\n",
      "movement <class 'str'>\n",
      "museum <class 'str'>\n",
      "origin <class 'str'>\n",
      "medium <class 'str'>\n",
      "size <class 'str'>\n",
      "date <class 'str'>\n",
      "representational <class 'bool'>\n"
     ]
    }
   ],
   "source": [
    "for key,val in art[0].items():\n",
    "  print(key, type(val))"
   ]
  },
  {
   "cell_type": "markdown",
   "metadata": {},
   "source": [
    "### Explore"
   ]
  },
  {
   "cell_type": "code",
   "execution_count": 33,
   "metadata": {
    "tags": [
     "work_cell"
    ]
   },
   "outputs": [
    {
     "name": "stdout",
     "output_type": "stream",
     "text": [
      "Number of artworks 404\n",
      "Oldest Artwork: {'artist': 'Juan de Flandes ', 'title': 'The Ascension', 'movement': 'representation', 'museum': 'Prado Museum', 'origin': 'Flanders / Belgium', 'medium': 'painting', 'size': '110 x 84 cm', 'date': '1514 - 1519 ', 'representational': True}\n",
      "Number of artworks in the Tate: 142\n",
      "Number of artworks from Brazil: 8\n",
      "Number of different movements considered: 29\n",
      "The museum with the most artworks: ('Tate', 142)\n"
     ]
    }
   ],
   "source": [
    "# How many artworks are in the dataset?\n",
    "print(\"Number of artworks\", len(art))\n",
    "#answer: 404\n",
    "\n",
    "# What's the oldest artwork?\n",
    "def get_year(artworks):\n",
    "  return artworks.get(\"date\")\n",
    "print(\"Oldest Artwork:\", sorted(art, key=get_year)[0])\n",
    "#answer: Oldest Artwork: {'artist': 'Juan de Flandes ', 'title': 'The Ascension', 'movement': 'representation', 'museum': 'Prado Museum', 'origin': 'Flanders / Belgium', 'medium': 'painting', 'size': '110 x 84 cm', 'date': '1514 - 1519 ', 'representational': True}\n",
    "\n",
    "# How many artworks in the Tate?\n",
    "#   For this, we can create a variable that starts at 0 and\n",
    "#   increments every time we encounter an object that has \"Tate\" as the \"museum\"\n",
    "tate_count = 0\n",
    "for artwork in art:\n",
    "    if artwork.get(\"museum\") == \"Tate\":\n",
    "        tate_count += 1\n",
    "print(\"Number of artworks in the Tate:\",tate_count)\n",
    "#answer: 142\n",
    "\n",
    "# How many from Brazil?\n",
    "#   Similar to above, but we increment a counter when \"origin\" is \"Brazil\"\n",
    "brazil_art_count = 0\n",
    "for artwork in art:\n",
    "    if artwork.get(\"origin\") == \"Brazil\":\n",
    "        brazil_art_count += 1\n",
    "print(\"Number of artworks from Brazil:\",brazil_art_count)\n",
    "#answer: 8\n",
    "\n",
    "# How many different movements are considered?\n",
    "#   Here we can create a separate list that has all of the values associated with the \"movement\" keys of our objects.\n",
    "#   This list will have repeated values, but we can use set() and then len() to grab \n",
    "#   and count the unique values of this list\n",
    "\n",
    "movement_list = [artwork[\"movement\"] for artwork in art if \"movement\" in artwork]\n",
    "unique_movements = set(movement_list)\n",
    "number_of_movements = len(unique_movements)\n",
    "print(\"Number of different movements considered:\",number_of_movements)\n",
    "#answer: 29\n",
    "\n",
    "# Which museum has the most artworks?\n",
    "#   A bit trickier. Here we want to create an object that associates museum names with number of pieces.\n",
    "#   We can start with an empty object, then, for every art piece, we check if its museum exists as a key in the object.\n",
    "#   If it doesn't we create a key with the name of the museum and set its count to 1.\n",
    "#   If it does, we increment its count.\n",
    "#   Afterwards we sort the items() of this object by value\n",
    "\n",
    "museum_count = {}                 \n",
    "for artwork in art:\n",
    "    if \"museum\" in artwork:\n",
    "        if artwork[\"museum\"] in museum_count:\n",
    "           museum_count[artwork[\"museum\"]] += 1\n",
    "        else:\n",
    "           museum_count[artwork[\"museum\"]] = 1\n",
    "\n",
    "museum_list = list(museum_count.items())\n",
    "\n",
    "def byCount(A):\n",
    "   return A[1]\n",
    "\n",
    "sorted_museums = sorted(museum_list, key=byCount)\n",
    "print(\"The museum with the most artworks:\", sorted_museums[-1])\n",
    "#answer: The museum with the most artworks: ('Tate', 142)\n"
   ]
  }
 ],
 "metadata": {
  "kernelspec": {
   "display_name": "Python 3",
   "language": "python",
   "name": "python3"
  },
  "language_info": {
   "codemirror_mode": {
    "name": "ipython",
    "version": 3
   },
   "file_extension": ".py",
   "mimetype": "text/x-python",
   "name": "python",
   "nbconvert_exporter": "python",
   "pygments_lexer": "ipython3",
   "version": "3.10.16"
  }
 },
 "nbformat": 4,
 "nbformat_minor": 2
}
